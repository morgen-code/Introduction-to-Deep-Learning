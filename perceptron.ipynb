{
 "cells": [
  {
   "cell_type": "code",
   "execution_count": null,
   "metadata": {
    "colab": {
     "base_uri": "https://localhost:8080/"
    },
    "executionInfo": {
     "elapsed": 10,
     "status": "ok",
     "timestamp": 1758038914500,
     "user": {
      "displayName": "R T",
      "userId": "11990612422709739959"
     },
     "user_tz": -540
    },
    "id": "mYQJRsbie-vz",
    "outputId": "b88c91c5-01b5-4bb5-e44a-27fea0d17103"
   },
   "outputs": [
    {
     "name": "stdout",
     "output_type": "stream",
     "text": [
      "========== and ==========\n",
      "X1 = 0, X2 = 0, Y = 0\n",
      "X1 = 1, X2 = 0, Y = 0\n",
      "X1 = 0, X2 = 1, Y = 0\n",
      "X1 = 1, X2 = 1, Y = 1\n",
      "========== or ==========\n",
      "X1 = 0, X2 = 0, Y = 0\n",
      "X1 = 1, X2 = 0, Y = 1\n",
      "X1 = 0, X2 = 1, Y = 1\n",
      "X1 = 1, X2 = 1, Y = 1\n",
      "========== perceptron and ==========\n",
      "X1 = 0, X2 = 0, Y = 0\n",
      "X1 = 1, X2 = 0, Y = 0\n",
      "X1 = 0, X2 = 1, Y = 0\n",
      "X1 = 1, X2 = 1, Y = 1\n",
      "========== perceptron or ==========\n",
      "X1 = 0, X2 = 0, Y = 0\n",
      "X1 = 1, X2 = 0, Y = 1\n",
      "X1 = 0, X2 = 1, Y = 1\n",
      "X1 = 1, X2 = 1, Y = 1\n",
      "========== perceptron nand ==========\n",
      "X1 = 0, X2 = 0, Y = 1\n",
      "X1 = 1, X2 = 0, Y = 1\n",
      "X1 = 0, X2 = 1, Y = 1\n",
      "X1 = 1, X2 = 1, Y = 0\n",
      "========== perceptron xor ==========\n",
      "X1 = 0, X2 = 0, Y = 0\n",
      "X1 = 1, X2 = 0, Y = 1\n",
      "X1 = 0, X2 = 1, Y = 1\n",
      "X1 = 1, X2 = 1, Y = 0\n"
     ]
    }
   ],
   "source": [
    "X1 = [0, 1, 0, 1]\n",
    "X2 = [0, 0, 1, 1]\n",
    "\n",
    "# and回路\n",
    "def caluctation_and(x1, x2):\n",
    "  return 1 if x1 == 1 and x2 == 1 else 0\n",
    "\n",
    "# or回路\n",
    "def calculation_or(x1, x2):\n",
    "  return 1 if x1 == 1 or x2 == 1 else 0\n",
    "\n",
    "# not回路\n",
    "def calculation_not(x):\n",
    "  return 0 if x == 1 else 1\n",
    "\n",
    "# Perceptronのand回路\n",
    "def perceptron_and(x1, x2):\n",
    "  w1, w2, theta = 0.5, 0.5, 0.8\n",
    "  ans = x1 * w1 + x2 * w2\n",
    "  return 1 if ans > theta else 0\n",
    "\n",
    "# Perceptronのor回路\n",
    "def perceptron_or(x1, x2):\n",
    "  w1, w2, theta = 0.5, 0.5, 0.2\n",
    "  ans = x1 * w1 + x2 * w2\n",
    "  return 1 if ans > theta else 0\n",
    "\n",
    "# Perceptronのnand回路\n",
    "def perceptron_nand(x1, x2):\n",
    "    return calculation_not(perceptron_and(x1, x2))\n",
    "\n",
    "# Perceptronのxor回路\n",
    "def perceptron_xor(x1, x2):\n",
    "  return caluctation_and(perceptron_nand(x1, x2), perceptron_or(x1, x2))\n",
    "\n",
    "def display_result(func):\n",
    "  for i in range(4):\n",
    "    Y = func(X1[i], X2[i])\n",
    "    print(f\"X1 = {X1[i]}, X2 = {X2[i]}, Y = {Y}\")\n",
    "\n",
    "print(\"=\" * 10 + \" and \" + \"=\" * 10)\n",
    "display_result(caluctation_and)\n",
    "print(\"=\" * 10 + \" or \" + \"=\" * 10)\n",
    "display_result(calculation_or)\n",
    "print(\"=\" * 10 + \" perceptron and \" + \"=\" * 10)\n",
    "display_result(perceptron_and)\n",
    "print(\"=\" * 10 + \" perceptron or \" + \"=\" * 10)\n",
    "display_result(perceptron_or)\n",
    "print(\"=\" * 10 + \" perceptron nand \" + \"=\" * 10)\n",
    "display_result(perceptron_nand)\n",
    "print(\"=\" * 10 + \" perceptron xor \" + \"=\" * 10)\n",
    "display_result(perceptron_xor)"
   ]
  },
  {
   "cell_type": "code",
   "execution_count": 2,
   "metadata": {
    "colab": {
     "base_uri": "https://localhost:8080/",
     "height": 455
    },
    "executionInfo": {
     "elapsed": 307,
     "status": "ok",
     "timestamp": 1758112177952,
     "user": {
      "displayName": "R T",
      "userId": "11990612422709739959"
     },
     "user_tz": -540
    },
    "id": "LNHDcanXg5Tg",
    "outputId": "ad91acd2-4bb0-46df-c1b9-8e2f45cde79b"
   },
   "outputs": [
    {
     "data": {
      "image/png": "[encoded data removed]",
      "text/plain": [
       "<Figure size 600x600 with 1 Axes>"
      ]
     },
     "metadata": {},
     "output_type": "display_data"
    }
   ],
   "source": [
    "import numpy as np\n",
    "import matplotlib.pyplot as plt\n",
    "\n",
    "def perceptron(x1, x2):\n",
    "    w1, w2, theta = 0.5, 0.5, 0.8\n",
    "    return 1 if x1 * w1 + x2 * w2 > theta else 0\n",
    "\n",
    "def fillcolor(val):\n",
    "    return \"salmon\" if val > 0 else \"skyblue\"\n",
    "\n",
    "def plot_perceptron(func):\n",
    "    XX, YY = np.meshgrid(\n",
    "        np.linspace(-0.25, 1.25, 200),\n",
    "        np.linspace(-0.25, 1.25, 200)\n",
    "    )\n",
    "    XX, YY = XX.flatten(), YY.flatten()\n",
    "    results = [func(x, y) for x, y in zip(XX, YY)]\n",
    "    colors = [fillcolor(r) for r in results]\n",
    "\n",
    "    plt.figure(figsize=(6, 6))\n",
    "    plt.scatter(XX, YY, c=colors, s=10)\n",
    "    plt.xlim(-0.25, 1.25)\n",
    "    plt.ylim(-0.25, 1.25)\n",
    "    plt.xlabel(\"X1\")\n",
    "    plt.ylabel(\"X2\")\n",
    "\n",
    "    plt.text(0.5, -0.4, \"Perceptron Visualization\",ha=\"center\", va=\"top\")\n",
    "    plt.show()\n",
    "\n",
    "plot_perceptron(perceptron)"
   ]
  }
 ],
 "metadata": {
  "colab": {
   "authorship_tag": "ABX9TyMtCJL4DdopjuaasWt1F1QR",
   "provenance": [],
   "toc_visible": true
  },
  "kernelspec": {
   "display_name": "base",
   "language": "python",
   "name": "python3"
  },
  "language_info": {
   "codemirror_mode": {
    "name": "ipython",
    "version": 3
   },
   "file_extension": ".py",
   "mimetype": "text/x-python",
   "name": "python",
   "nbconvert_exporter": "python",
   "pygments_lexer": "ipython3",
   "version": "3.12.7"
  }
 },
 "nbformat": 4,
 "nbformat_minor": 0
}
